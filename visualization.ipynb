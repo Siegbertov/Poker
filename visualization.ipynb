{
 "cells": [
  {
   "cell_type": "code",
   "execution_count": 63,
   "id": "8d8ee25b",
   "metadata": {},
   "outputs": [],
   "source": [
    "import pandas as pd\n",
    "from tools.hand_parser import *\n",
    "from random import choice\n",
    "import warnings \n",
    "warnings.filterwarnings('ignore')"
   ]
  },
  {
   "cell_type": "code",
   "execution_count": 46,
   "id": "4d98978a",
   "metadata": {},
   "outputs": [
    {
     "name": "stdout",
     "output_type": "stream",
     "text": [
      "Memory usage: 433.2MB\n",
      "\n",
      "CPU times: total: 13.3 s\n",
      "Wall time: 13.3 s\n"
     ]
    },
    {
     "ename": "KeyboardInterrupt",
     "evalue": "",
     "output_type": "error",
     "traceback": [
      "\u001b[1;31m---------------------------------------------------------------------------\u001b[0m",
      "\u001b[1;31mKeyboardInterrupt\u001b[0m                         Traceback (most recent call last)",
      "Input \u001b[1;32mIn [46]\u001b[0m, in \u001b[0;36m<cell line: 1>\u001b[1;34m()\u001b[0m\n\u001b[1;32m----> 1\u001b[0m get_ipython()\u001b[38;5;241m.\u001b[39mrun_cell_magic(\u001b[38;5;124m'\u001b[39m\u001b[38;5;124mtime\u001b[39m\u001b[38;5;124m'\u001b[39m, \u001b[38;5;124m'\u001b[39m\u001b[38;5;124m'\u001b[39m, \u001b[38;5;124m'\u001b[39m\u001b[38;5;124mdf = pd.read_csv(\u001b[39m\u001b[38;5;124m\"\u001b[39m\u001b[38;5;124mhand_combinations.csv\u001b[39m\u001b[38;5;124m\"\u001b[39m\u001b[38;5;124m, index_col=0).astype(\u001b[39m\u001b[38;5;130;01m\\'\u001b[39;00m\u001b[38;5;124mint8\u001b[39m\u001b[38;5;130;01m\\'\u001b[39;00m\u001b[38;5;124m)\u001b[39m\u001b[38;5;130;01m\\n\u001b[39;00m\u001b[38;5;124mdf.rename(index=lambda i: i.replace(\u001b[39m\u001b[38;5;124m\"\u001b[39m\u001b[38;5;130;01m\\'\u001b[39;00m\u001b[38;5;124m\"\u001b[39m\u001b[38;5;124m, \u001b[39m\u001b[38;5;124m\"\u001b[39m\u001b[38;5;124m\"\u001b[39m\u001b[38;5;124m), inplace=True)\u001b[39m\u001b[38;5;130;01m\\n\u001b[39;00m\u001b[38;5;124mprint(f\u001b[39m\u001b[38;5;124m\"\u001b[39m\u001b[38;5;124mMemory usage: \u001b[39m\u001b[38;5;124m{\u001b[39m\u001b[38;5;124mround(sum(df.memory_usage(deep=True)) / 1024 / 1024, 1)}MB\u001b[39m\u001b[38;5;130;01m\\\\\u001b[39;00m\u001b[38;5;124mn\u001b[39m\u001b[38;5;124m\"\u001b[39m\u001b[38;5;124m)\u001b[39m\u001b[38;5;130;01m\\n\u001b[39;00m\u001b[38;5;124mall_hands = list(df.index.values)\u001b[39m\u001b[38;5;130;01m\\n\u001b[39;00m\u001b[38;5;124mdf\u001b[39m\u001b[38;5;130;01m\\n\u001b[39;00m\u001b[38;5;124m'\u001b[39m)\n",
      "File \u001b[1;32m~\\anaconda3\\lib\\site-packages\\IPython\\core\\displayhook.py:262\u001b[0m, in \u001b[0;36mDisplayHook.__call__\u001b[1;34m(self, result)\u001b[0m\n\u001b[0;32m    260\u001b[0m \u001b[38;5;28mself\u001b[39m\u001b[38;5;241m.\u001b[39mstart_displayhook()\n\u001b[0;32m    261\u001b[0m \u001b[38;5;28mself\u001b[39m\u001b[38;5;241m.\u001b[39mwrite_output_prompt()\n\u001b[1;32m--> 262\u001b[0m format_dict, md_dict \u001b[38;5;241m=\u001b[39m \u001b[38;5;28;43mself\u001b[39;49m\u001b[38;5;241;43m.\u001b[39;49m\u001b[43mcompute_format_data\u001b[49m\u001b[43m(\u001b[49m\u001b[43mresult\u001b[49m\u001b[43m)\u001b[49m\n\u001b[0;32m    263\u001b[0m \u001b[38;5;28mself\u001b[39m\u001b[38;5;241m.\u001b[39mupdate_user_ns(result)\n\u001b[0;32m    264\u001b[0m \u001b[38;5;28mself\u001b[39m\u001b[38;5;241m.\u001b[39mfill_exec_result(result)\n",
      "File \u001b[1;32m~\\anaconda3\\lib\\site-packages\\IPython\\core\\displayhook.py:151\u001b[0m, in \u001b[0;36mDisplayHook.compute_format_data\u001b[1;34m(self, result)\u001b[0m\n\u001b[0;32m    121\u001b[0m \u001b[38;5;28;01mdef\u001b[39;00m \u001b[38;5;21mcompute_format_data\u001b[39m(\u001b[38;5;28mself\u001b[39m, result):\n\u001b[0;32m    122\u001b[0m     \u001b[38;5;124;03m\"\"\"Compute format data of the object to be displayed.\u001b[39;00m\n\u001b[0;32m    123\u001b[0m \n\u001b[0;32m    124\u001b[0m \u001b[38;5;124;03m    The format data is a generalization of the :func:`repr` of an object.\u001b[39;00m\n\u001b[1;32m   (...)\u001b[0m\n\u001b[0;32m    149\u001b[0m \n\u001b[0;32m    150\u001b[0m \u001b[38;5;124;03m    \"\"\"\u001b[39;00m\n\u001b[1;32m--> 151\u001b[0m     \u001b[38;5;28;01mreturn\u001b[39;00m \u001b[38;5;28;43mself\u001b[39;49m\u001b[38;5;241;43m.\u001b[39;49m\u001b[43mshell\u001b[49m\u001b[38;5;241;43m.\u001b[39;49m\u001b[43mdisplay_formatter\u001b[49m\u001b[38;5;241;43m.\u001b[39;49m\u001b[43mformat\u001b[49m\u001b[43m(\u001b[49m\u001b[43mresult\u001b[49m\u001b[43m)\u001b[49m\n",
      "File \u001b[1;32m~\\anaconda3\\lib\\site-packages\\IPython\\core\\formatters.py:178\u001b[0m, in \u001b[0;36mDisplayFormatter.format\u001b[1;34m(self, obj, include, exclude)\u001b[0m\n\u001b[0;32m    176\u001b[0m md \u001b[38;5;241m=\u001b[39m \u001b[38;5;28;01mNone\u001b[39;00m\n\u001b[0;32m    177\u001b[0m \u001b[38;5;28;01mtry\u001b[39;00m:\n\u001b[1;32m--> 178\u001b[0m     data \u001b[38;5;241m=\u001b[39m \u001b[43mformatter\u001b[49m\u001b[43m(\u001b[49m\u001b[43mobj\u001b[49m\u001b[43m)\u001b[49m\n\u001b[0;32m    179\u001b[0m \u001b[38;5;28;01mexcept\u001b[39;00m:\n\u001b[0;32m    180\u001b[0m     \u001b[38;5;66;03m# FIXME: log the exception\u001b[39;00m\n\u001b[0;32m    181\u001b[0m     \u001b[38;5;28;01mraise\u001b[39;00m\n",
      "File \u001b[1;32m~\\anaconda3\\lib\\site-packages\\decorator.py:232\u001b[0m, in \u001b[0;36mdecorate.<locals>.fun\u001b[1;34m(*args, **kw)\u001b[0m\n\u001b[0;32m    230\u001b[0m \u001b[38;5;28;01mif\u001b[39;00m \u001b[38;5;129;01mnot\u001b[39;00m kwsyntax:\n\u001b[0;32m    231\u001b[0m     args, kw \u001b[38;5;241m=\u001b[39m fix(args, kw, sig)\n\u001b[1;32m--> 232\u001b[0m \u001b[38;5;28;01mreturn\u001b[39;00m caller(func, \u001b[38;5;241m*\u001b[39m(extras \u001b[38;5;241m+\u001b[39m args), \u001b[38;5;241m*\u001b[39m\u001b[38;5;241m*\u001b[39mkw)\n",
      "File \u001b[1;32m~\\anaconda3\\lib\\site-packages\\IPython\\core\\formatters.py:222\u001b[0m, in \u001b[0;36mcatch_format_error\u001b[1;34m(method, self, *args, **kwargs)\u001b[0m\n\u001b[0;32m    220\u001b[0m \u001b[38;5;124;03m\"\"\"show traceback on failed format call\"\"\"\u001b[39;00m\n\u001b[0;32m    221\u001b[0m \u001b[38;5;28;01mtry\u001b[39;00m:\n\u001b[1;32m--> 222\u001b[0m     r \u001b[38;5;241m=\u001b[39m method(\u001b[38;5;28mself\u001b[39m, \u001b[38;5;241m*\u001b[39margs, \u001b[38;5;241m*\u001b[39m\u001b[38;5;241m*\u001b[39mkwargs)\n\u001b[0;32m    223\u001b[0m \u001b[38;5;28;01mexcept\u001b[39;00m \u001b[38;5;167;01mNotImplementedError\u001b[39;00m:\n\u001b[0;32m    224\u001b[0m     \u001b[38;5;66;03m# don't warn on NotImplementedErrors\u001b[39;00m\n\u001b[0;32m    225\u001b[0m     \u001b[38;5;28;01mreturn\u001b[39;00m \u001b[38;5;28mself\u001b[39m\u001b[38;5;241m.\u001b[39m_check_return(\u001b[38;5;28;01mNone\u001b[39;00m, args[\u001b[38;5;241m0\u001b[39m])\n",
      "File \u001b[1;32m~\\anaconda3\\lib\\site-packages\\IPython\\core\\formatters.py:707\u001b[0m, in \u001b[0;36mPlainTextFormatter.__call__\u001b[1;34m(self, obj)\u001b[0m\n\u001b[0;32m    700\u001b[0m stream \u001b[38;5;241m=\u001b[39m StringIO()\n\u001b[0;32m    701\u001b[0m printer \u001b[38;5;241m=\u001b[39m pretty\u001b[38;5;241m.\u001b[39mRepresentationPrinter(stream, \u001b[38;5;28mself\u001b[39m\u001b[38;5;241m.\u001b[39mverbose,\n\u001b[0;32m    702\u001b[0m     \u001b[38;5;28mself\u001b[39m\u001b[38;5;241m.\u001b[39mmax_width, \u001b[38;5;28mself\u001b[39m\u001b[38;5;241m.\u001b[39mnewline,\n\u001b[0;32m    703\u001b[0m     max_seq_length\u001b[38;5;241m=\u001b[39m\u001b[38;5;28mself\u001b[39m\u001b[38;5;241m.\u001b[39mmax_seq_length,\n\u001b[0;32m    704\u001b[0m     singleton_pprinters\u001b[38;5;241m=\u001b[39m\u001b[38;5;28mself\u001b[39m\u001b[38;5;241m.\u001b[39msingleton_printers,\n\u001b[0;32m    705\u001b[0m     type_pprinters\u001b[38;5;241m=\u001b[39m\u001b[38;5;28mself\u001b[39m\u001b[38;5;241m.\u001b[39mtype_printers,\n\u001b[0;32m    706\u001b[0m     deferred_pprinters\u001b[38;5;241m=\u001b[39m\u001b[38;5;28mself\u001b[39m\u001b[38;5;241m.\u001b[39mdeferred_printers)\n\u001b[1;32m--> 707\u001b[0m \u001b[43mprinter\u001b[49m\u001b[38;5;241;43m.\u001b[39;49m\u001b[43mpretty\u001b[49m\u001b[43m(\u001b[49m\u001b[43mobj\u001b[49m\u001b[43m)\u001b[49m\n\u001b[0;32m    708\u001b[0m printer\u001b[38;5;241m.\u001b[39mflush()\n\u001b[0;32m    709\u001b[0m \u001b[38;5;28;01mreturn\u001b[39;00m stream\u001b[38;5;241m.\u001b[39mgetvalue()\n",
      "File \u001b[1;32m~\\anaconda3\\lib\\site-packages\\IPython\\lib\\pretty.py:410\u001b[0m, in \u001b[0;36mRepresentationPrinter.pretty\u001b[1;34m(self, obj)\u001b[0m\n\u001b[0;32m    407\u001b[0m                         \u001b[38;5;28;01mreturn\u001b[39;00m meth(obj, \u001b[38;5;28mself\u001b[39m, cycle)\n\u001b[0;32m    408\u001b[0m                 \u001b[38;5;28;01mif\u001b[39;00m \u001b[38;5;28mcls\u001b[39m \u001b[38;5;129;01mis\u001b[39;00m \u001b[38;5;129;01mnot\u001b[39;00m \u001b[38;5;28mobject\u001b[39m \\\n\u001b[0;32m    409\u001b[0m                         \u001b[38;5;129;01mand\u001b[39;00m callable(\u001b[38;5;28mcls\u001b[39m\u001b[38;5;241m.\u001b[39m\u001b[38;5;18m__dict__\u001b[39m\u001b[38;5;241m.\u001b[39mget(\u001b[38;5;124m'\u001b[39m\u001b[38;5;124m__repr__\u001b[39m\u001b[38;5;124m'\u001b[39m)):\n\u001b[1;32m--> 410\u001b[0m                     \u001b[38;5;28;01mreturn\u001b[39;00m \u001b[43m_repr_pprint\u001b[49m\u001b[43m(\u001b[49m\u001b[43mobj\u001b[49m\u001b[43m,\u001b[49m\u001b[43m \u001b[49m\u001b[38;5;28;43mself\u001b[39;49m\u001b[43m,\u001b[49m\u001b[43m \u001b[49m\u001b[43mcycle\u001b[49m\u001b[43m)\u001b[49m\n\u001b[0;32m    412\u001b[0m     \u001b[38;5;28;01mreturn\u001b[39;00m _default_pprint(obj, \u001b[38;5;28mself\u001b[39m, cycle)\n\u001b[0;32m    413\u001b[0m \u001b[38;5;28;01mfinally\u001b[39;00m:\n",
      "File \u001b[1;32m~\\anaconda3\\lib\\site-packages\\IPython\\lib\\pretty.py:778\u001b[0m, in \u001b[0;36m_repr_pprint\u001b[1;34m(obj, p, cycle)\u001b[0m\n\u001b[0;32m    776\u001b[0m \u001b[38;5;124;03m\"\"\"A pprint that just redirects to the normal repr function.\"\"\"\u001b[39;00m\n\u001b[0;32m    777\u001b[0m \u001b[38;5;66;03m# Find newlines and replace them with p.break_()\u001b[39;00m\n\u001b[1;32m--> 778\u001b[0m output \u001b[38;5;241m=\u001b[39m \u001b[38;5;28;43mrepr\u001b[39;49m\u001b[43m(\u001b[49m\u001b[43mobj\u001b[49m\u001b[43m)\u001b[49m\n\u001b[0;32m    779\u001b[0m lines \u001b[38;5;241m=\u001b[39m output\u001b[38;5;241m.\u001b[39msplitlines()\n\u001b[0;32m    780\u001b[0m \u001b[38;5;28;01mwith\u001b[39;00m p\u001b[38;5;241m.\u001b[39mgroup():\n",
      "File \u001b[1;32m~\\anaconda3\\lib\\site-packages\\pandas\\core\\frame.py:1011\u001b[0m, in \u001b[0;36mDataFrame.__repr__\u001b[1;34m(self)\u001b[0m\n\u001b[0;32m   1008\u001b[0m     \u001b[38;5;28;01mreturn\u001b[39;00m buf\u001b[38;5;241m.\u001b[39mgetvalue()\n\u001b[0;32m   1010\u001b[0m repr_params \u001b[38;5;241m=\u001b[39m fmt\u001b[38;5;241m.\u001b[39mget_dataframe_repr_params()\n\u001b[1;32m-> 1011\u001b[0m \u001b[38;5;28;01mreturn\u001b[39;00m \u001b[38;5;28mself\u001b[39m\u001b[38;5;241m.\u001b[39mto_string(\u001b[38;5;241m*\u001b[39m\u001b[38;5;241m*\u001b[39mrepr_params)\n",
      "File \u001b[1;32m~\\anaconda3\\lib\\site-packages\\pandas\\core\\frame.py:1174\u001b[0m, in \u001b[0;36mDataFrame.to_string\u001b[1;34m(self, buf, columns, col_space, header, index, na_rep, formatters, float_format, sparsify, index_names, justify, max_rows, max_cols, show_dimensions, decimal, line_width, min_rows, max_colwidth, encoding)\u001b[0m\n\u001b[0;32m   1171\u001b[0m \u001b[38;5;28;01mfrom\u001b[39;00m \u001b[38;5;21;01mpandas\u001b[39;00m \u001b[38;5;28;01mimport\u001b[39;00m option_context\n\u001b[0;32m   1173\u001b[0m \u001b[38;5;28;01mwith\u001b[39;00m option_context(\u001b[38;5;124m\"\u001b[39m\u001b[38;5;124mdisplay.max_colwidth\u001b[39m\u001b[38;5;124m\"\u001b[39m, max_colwidth):\n\u001b[1;32m-> 1174\u001b[0m     formatter \u001b[38;5;241m=\u001b[39m \u001b[43mfmt\u001b[49m\u001b[38;5;241;43m.\u001b[39;49m\u001b[43mDataFrameFormatter\u001b[49m\u001b[43m(\u001b[49m\n\u001b[0;32m   1175\u001b[0m \u001b[43m        \u001b[49m\u001b[38;5;28;43mself\u001b[39;49m\u001b[43m,\u001b[49m\n\u001b[0;32m   1176\u001b[0m \u001b[43m        \u001b[49m\u001b[43mcolumns\u001b[49m\u001b[38;5;241;43m=\u001b[39;49m\u001b[43mcolumns\u001b[49m\u001b[43m,\u001b[49m\n\u001b[0;32m   1177\u001b[0m \u001b[43m        \u001b[49m\u001b[43mcol_space\u001b[49m\u001b[38;5;241;43m=\u001b[39;49m\u001b[43mcol_space\u001b[49m\u001b[43m,\u001b[49m\n\u001b[0;32m   1178\u001b[0m \u001b[43m        \u001b[49m\u001b[43mna_rep\u001b[49m\u001b[38;5;241;43m=\u001b[39;49m\u001b[43mna_rep\u001b[49m\u001b[43m,\u001b[49m\n\u001b[0;32m   1179\u001b[0m \u001b[43m        \u001b[49m\u001b[43mformatters\u001b[49m\u001b[38;5;241;43m=\u001b[39;49m\u001b[43mformatters\u001b[49m\u001b[43m,\u001b[49m\n\u001b[0;32m   1180\u001b[0m \u001b[43m        \u001b[49m\u001b[43mfloat_format\u001b[49m\u001b[38;5;241;43m=\u001b[39;49m\u001b[43mfloat_format\u001b[49m\u001b[43m,\u001b[49m\n\u001b[0;32m   1181\u001b[0m \u001b[43m        \u001b[49m\u001b[43msparsify\u001b[49m\u001b[38;5;241;43m=\u001b[39;49m\u001b[43msparsify\u001b[49m\u001b[43m,\u001b[49m\n\u001b[0;32m   1182\u001b[0m \u001b[43m        \u001b[49m\u001b[43mjustify\u001b[49m\u001b[38;5;241;43m=\u001b[39;49m\u001b[43mjustify\u001b[49m\u001b[43m,\u001b[49m\n\u001b[0;32m   1183\u001b[0m \u001b[43m        \u001b[49m\u001b[43mindex_names\u001b[49m\u001b[38;5;241;43m=\u001b[39;49m\u001b[43mindex_names\u001b[49m\u001b[43m,\u001b[49m\n\u001b[0;32m   1184\u001b[0m \u001b[43m        \u001b[49m\u001b[43mheader\u001b[49m\u001b[38;5;241;43m=\u001b[39;49m\u001b[43mheader\u001b[49m\u001b[43m,\u001b[49m\n\u001b[0;32m   1185\u001b[0m \u001b[43m        \u001b[49m\u001b[43mindex\u001b[49m\u001b[38;5;241;43m=\u001b[39;49m\u001b[43mindex\u001b[49m\u001b[43m,\u001b[49m\n\u001b[0;32m   1186\u001b[0m \u001b[43m        \u001b[49m\u001b[43mmin_rows\u001b[49m\u001b[38;5;241;43m=\u001b[39;49m\u001b[43mmin_rows\u001b[49m\u001b[43m,\u001b[49m\n\u001b[0;32m   1187\u001b[0m \u001b[43m        \u001b[49m\u001b[43mmax_rows\u001b[49m\u001b[38;5;241;43m=\u001b[39;49m\u001b[43mmax_rows\u001b[49m\u001b[43m,\u001b[49m\n\u001b[0;32m   1188\u001b[0m \u001b[43m        \u001b[49m\u001b[43mmax_cols\u001b[49m\u001b[38;5;241;43m=\u001b[39;49m\u001b[43mmax_cols\u001b[49m\u001b[43m,\u001b[49m\n\u001b[0;32m   1189\u001b[0m \u001b[43m        \u001b[49m\u001b[43mshow_dimensions\u001b[49m\u001b[38;5;241;43m=\u001b[39;49m\u001b[43mshow_dimensions\u001b[49m\u001b[43m,\u001b[49m\n\u001b[0;32m   1190\u001b[0m \u001b[43m        \u001b[49m\u001b[43mdecimal\u001b[49m\u001b[38;5;241;43m=\u001b[39;49m\u001b[43mdecimal\u001b[49m\u001b[43m,\u001b[49m\n\u001b[0;32m   1191\u001b[0m \u001b[43m    \u001b[49m\u001b[43m)\u001b[49m\n\u001b[0;32m   1192\u001b[0m     \u001b[38;5;28;01mreturn\u001b[39;00m fmt\u001b[38;5;241m.\u001b[39mDataFrameRenderer(formatter)\u001b[38;5;241m.\u001b[39mto_string(\n\u001b[0;32m   1193\u001b[0m         buf\u001b[38;5;241m=\u001b[39mbuf,\n\u001b[0;32m   1194\u001b[0m         encoding\u001b[38;5;241m=\u001b[39mencoding,\n\u001b[0;32m   1195\u001b[0m         line_width\u001b[38;5;241m=\u001b[39mline_width,\n\u001b[0;32m   1196\u001b[0m     )\n",
      "File \u001b[1;32m~\\anaconda3\\lib\\site-packages\\pandas\\io\\formats\\format.py:604\u001b[0m, in \u001b[0;36mDataFrameFormatter.__init__\u001b[1;34m(self, frame, columns, col_space, header, index, na_rep, formatters, justify, float_format, sparsify, index_names, max_rows, min_rows, max_cols, show_dimensions, decimal, bold_rows, escape)\u001b[0m\n\u001b[0;32m    601\u001b[0m \u001b[38;5;28mself\u001b[39m\u001b[38;5;241m.\u001b[39mmax_rows_fitted \u001b[38;5;241m=\u001b[39m \u001b[38;5;28mself\u001b[39m\u001b[38;5;241m.\u001b[39m_calc_max_rows_fitted()\n\u001b[0;32m    603\u001b[0m \u001b[38;5;28mself\u001b[39m\u001b[38;5;241m.\u001b[39mtr_frame \u001b[38;5;241m=\u001b[39m \u001b[38;5;28mself\u001b[39m\u001b[38;5;241m.\u001b[39mframe\n\u001b[1;32m--> 604\u001b[0m \u001b[38;5;28;43mself\u001b[39;49m\u001b[38;5;241;43m.\u001b[39;49m\u001b[43mtruncate\u001b[49m\u001b[43m(\u001b[49m\u001b[43m)\u001b[49m\n\u001b[0;32m    605\u001b[0m \u001b[38;5;28mself\u001b[39m\u001b[38;5;241m.\u001b[39madj \u001b[38;5;241m=\u001b[39m get_adjustment()\n",
      "File \u001b[1;32m~\\anaconda3\\lib\\site-packages\\pandas\\io\\formats\\format.py:790\u001b[0m, in \u001b[0;36mDataFrameFormatter.truncate\u001b[1;34m(self)\u001b[0m\n\u001b[0;32m    786\u001b[0m \u001b[38;5;124;03m\"\"\"\u001b[39;00m\n\u001b[0;32m    787\u001b[0m \u001b[38;5;124;03mCheck whether the frame should be truncated. If so, slice the frame up.\u001b[39;00m\n\u001b[0;32m    788\u001b[0m \u001b[38;5;124;03m\"\"\"\u001b[39;00m\n\u001b[0;32m    789\u001b[0m \u001b[38;5;28;01mif\u001b[39;00m \u001b[38;5;28mself\u001b[39m\u001b[38;5;241m.\u001b[39mis_truncated_horizontally:\n\u001b[1;32m--> 790\u001b[0m     \u001b[38;5;28;43mself\u001b[39;49m\u001b[38;5;241;43m.\u001b[39;49m\u001b[43m_truncate_horizontally\u001b[49m\u001b[43m(\u001b[49m\u001b[43m)\u001b[49m\n\u001b[0;32m    792\u001b[0m \u001b[38;5;28;01mif\u001b[39;00m \u001b[38;5;28mself\u001b[39m\u001b[38;5;241m.\u001b[39mis_truncated_vertically:\n\u001b[0;32m    793\u001b[0m     \u001b[38;5;28mself\u001b[39m\u001b[38;5;241m.\u001b[39m_truncate_vertically()\n",
      "File \u001b[1;32m~\\anaconda3\\lib\\site-packages\\pandas\\io\\formats\\format.py:808\u001b[0m, in \u001b[0;36mDataFrameFormatter._truncate_horizontally\u001b[1;34m(self)\u001b[0m\n\u001b[0;32m    806\u001b[0m left \u001b[38;5;241m=\u001b[39m \u001b[38;5;28mself\u001b[39m\u001b[38;5;241m.\u001b[39mtr_frame\u001b[38;5;241m.\u001b[39miloc[:, :col_num]\n\u001b[0;32m    807\u001b[0m right \u001b[38;5;241m=\u001b[39m \u001b[38;5;28mself\u001b[39m\u001b[38;5;241m.\u001b[39mtr_frame\u001b[38;5;241m.\u001b[39miloc[:, \u001b[38;5;241m-\u001b[39mcol_num:]\n\u001b[1;32m--> 808\u001b[0m \u001b[38;5;28mself\u001b[39m\u001b[38;5;241m.\u001b[39mtr_frame \u001b[38;5;241m=\u001b[39m \u001b[43mconcat\u001b[49m\u001b[43m(\u001b[49m\u001b[43m(\u001b[49m\u001b[43mleft\u001b[49m\u001b[43m,\u001b[49m\u001b[43m \u001b[49m\u001b[43mright\u001b[49m\u001b[43m)\u001b[49m\u001b[43m,\u001b[49m\u001b[43m \u001b[49m\u001b[43maxis\u001b[49m\u001b[38;5;241;43m=\u001b[39;49m\u001b[38;5;241;43m1\u001b[39;49m\u001b[43m)\u001b[49m\n\u001b[0;32m    810\u001b[0m \u001b[38;5;66;03m# truncate formatter\u001b[39;00m\n\u001b[0;32m    811\u001b[0m \u001b[38;5;28;01mif\u001b[39;00m \u001b[38;5;28misinstance\u001b[39m(\u001b[38;5;28mself\u001b[39m\u001b[38;5;241m.\u001b[39mformatters, (\u001b[38;5;28mlist\u001b[39m, \u001b[38;5;28mtuple\u001b[39m)):\n",
      "File \u001b[1;32m~\\anaconda3\\lib\\site-packages\\pandas\\util\\_decorators.py:311\u001b[0m, in \u001b[0;36mdeprecate_nonkeyword_arguments.<locals>.decorate.<locals>.wrapper\u001b[1;34m(*args, **kwargs)\u001b[0m\n\u001b[0;32m    305\u001b[0m \u001b[38;5;28;01mif\u001b[39;00m \u001b[38;5;28mlen\u001b[39m(args) \u001b[38;5;241m>\u001b[39m num_allow_args:\n\u001b[0;32m    306\u001b[0m     warnings\u001b[38;5;241m.\u001b[39mwarn(\n\u001b[0;32m    307\u001b[0m         msg\u001b[38;5;241m.\u001b[39mformat(arguments\u001b[38;5;241m=\u001b[39marguments),\n\u001b[0;32m    308\u001b[0m         \u001b[38;5;167;01mFutureWarning\u001b[39;00m,\n\u001b[0;32m    309\u001b[0m         stacklevel\u001b[38;5;241m=\u001b[39mstacklevel,\n\u001b[0;32m    310\u001b[0m     )\n\u001b[1;32m--> 311\u001b[0m \u001b[38;5;28;01mreturn\u001b[39;00m func(\u001b[38;5;241m*\u001b[39margs, \u001b[38;5;241m*\u001b[39m\u001b[38;5;241m*\u001b[39mkwargs)\n",
      "File \u001b[1;32m~\\anaconda3\\lib\\site-packages\\pandas\\core\\reshape\\concat.py:360\u001b[0m, in \u001b[0;36mconcat\u001b[1;34m(objs, axis, join, ignore_index, keys, levels, names, verify_integrity, sort, copy)\u001b[0m\n\u001b[0;32m    156\u001b[0m \u001b[38;5;124;03m\"\"\"\u001b[39;00m\n\u001b[0;32m    157\u001b[0m \u001b[38;5;124;03mConcatenate pandas objects along a particular axis with optional set logic\u001b[39;00m\n\u001b[0;32m    158\u001b[0m \u001b[38;5;124;03malong the other axes.\u001b[39;00m\n\u001b[1;32m   (...)\u001b[0m\n\u001b[0;32m    345\u001b[0m \u001b[38;5;124;03mValueError: Indexes have overlapping values: ['a']\u001b[39;00m\n\u001b[0;32m    346\u001b[0m \u001b[38;5;124;03m\"\"\"\u001b[39;00m\n\u001b[0;32m    347\u001b[0m op \u001b[38;5;241m=\u001b[39m _Concatenator(\n\u001b[0;32m    348\u001b[0m     objs,\n\u001b[0;32m    349\u001b[0m     axis\u001b[38;5;241m=\u001b[39maxis,\n\u001b[1;32m   (...)\u001b[0m\n\u001b[0;32m    357\u001b[0m     sort\u001b[38;5;241m=\u001b[39msort,\n\u001b[0;32m    358\u001b[0m )\n\u001b[1;32m--> 360\u001b[0m \u001b[38;5;28;01mreturn\u001b[39;00m \u001b[43mop\u001b[49m\u001b[38;5;241;43m.\u001b[39;49m\u001b[43mget_result\u001b[49m\u001b[43m(\u001b[49m\u001b[43m)\u001b[49m\n",
      "File \u001b[1;32m~\\anaconda3\\lib\\site-packages\\pandas\\core\\reshape\\concat.py:590\u001b[0m, in \u001b[0;36m_Concatenator.get_result\u001b[1;34m(self)\u001b[0m\n\u001b[0;32m    588\u001b[0m     \u001b[38;5;66;03m# 1-ax to convert BlockManager axis to DataFrame axis\u001b[39;00m\n\u001b[0;32m    589\u001b[0m     obj_labels \u001b[38;5;241m=\u001b[39m obj\u001b[38;5;241m.\u001b[39maxes[\u001b[38;5;241m1\u001b[39m \u001b[38;5;241m-\u001b[39m ax]\n\u001b[1;32m--> 590\u001b[0m     \u001b[38;5;28;01mif\u001b[39;00m \u001b[38;5;129;01mnot\u001b[39;00m \u001b[43mnew_labels\u001b[49m\u001b[38;5;241;43m.\u001b[39;49m\u001b[43mequals\u001b[49m\u001b[43m(\u001b[49m\u001b[43mobj_labels\u001b[49m\u001b[43m)\u001b[49m:\n\u001b[0;32m    591\u001b[0m         indexers[ax] \u001b[38;5;241m=\u001b[39m obj_labels\u001b[38;5;241m.\u001b[39mget_indexer(new_labels)\n\u001b[0;32m    593\u001b[0m mgrs_indexers\u001b[38;5;241m.\u001b[39mappend((obj\u001b[38;5;241m.\u001b[39m_mgr, indexers))\n",
      "File \u001b[1;32m~\\anaconda3\\lib\\site-packages\\pandas\\core\\indexes\\base.py:5263\u001b[0m, in \u001b[0;36mIndex.equals\u001b[1;34m(self, other)\u001b[0m\n\u001b[0;32m   5259\u001b[0m \u001b[38;5;28;01mif\u001b[39;00m is_extension_array_dtype(other\u001b[38;5;241m.\u001b[39mdtype):\n\u001b[0;32m   5260\u001b[0m     \u001b[38;5;66;03m# All EA-backed Index subclasses override equals\u001b[39;00m\n\u001b[0;32m   5261\u001b[0m     \u001b[38;5;28;01mreturn\u001b[39;00m other\u001b[38;5;241m.\u001b[39mequals(\u001b[38;5;28mself\u001b[39m)\n\u001b[1;32m-> 5263\u001b[0m \u001b[38;5;28;01mreturn\u001b[39;00m \u001b[43marray_equivalent\u001b[49m\u001b[43m(\u001b[49m\u001b[38;5;28;43mself\u001b[39;49m\u001b[38;5;241;43m.\u001b[39;49m\u001b[43m_values\u001b[49m\u001b[43m,\u001b[49m\u001b[43m \u001b[49m\u001b[43mother\u001b[49m\u001b[38;5;241;43m.\u001b[39;49m\u001b[43m_values\u001b[49m\u001b[43m)\u001b[49m\n",
      "File \u001b[1;32m~\\anaconda3\\lib\\site-packages\\pandas\\core\\dtypes\\missing.py:457\u001b[0m, in \u001b[0;36marray_equivalent\u001b[1;34m(left, right, strict_nan, dtype_equal)\u001b[0m\n\u001b[0;32m    451\u001b[0m \u001b[38;5;66;03m# Slow path when we allow comparing different dtypes.\u001b[39;00m\n\u001b[0;32m    452\u001b[0m \u001b[38;5;66;03m# Object arrays can contain None, NaN and NaT.\u001b[39;00m\n\u001b[0;32m    453\u001b[0m \u001b[38;5;66;03m# string dtypes must be come to this path for NumPy 1.7.1 compat\u001b[39;00m\n\u001b[0;32m    454\u001b[0m \u001b[38;5;28;01mif\u001b[39;00m left\u001b[38;5;241m.\u001b[39mdtype\u001b[38;5;241m.\u001b[39mkind \u001b[38;5;129;01min\u001b[39;00m \u001b[38;5;124m\"\u001b[39m\u001b[38;5;124mOSU\u001b[39m\u001b[38;5;124m\"\u001b[39m \u001b[38;5;129;01mor\u001b[39;00m right\u001b[38;5;241m.\u001b[39mdtype\u001b[38;5;241m.\u001b[39mkind \u001b[38;5;129;01min\u001b[39;00m \u001b[38;5;124m\"\u001b[39m\u001b[38;5;124mOSU\u001b[39m\u001b[38;5;124m\"\u001b[39m:\n\u001b[0;32m    455\u001b[0m     \u001b[38;5;66;03m# Note: `in \"OSU\"` is non-trivially faster than `in [\"O\", \"S\", \"U\"]`\u001b[39;00m\n\u001b[0;32m    456\u001b[0m     \u001b[38;5;66;03m#  or `in (\"O\", \"S\", \"U\")`\u001b[39;00m\n\u001b[1;32m--> 457\u001b[0m     \u001b[38;5;28;01mreturn\u001b[39;00m \u001b[43m_array_equivalent_object\u001b[49m\u001b[43m(\u001b[49m\u001b[43mleft\u001b[49m\u001b[43m,\u001b[49m\u001b[43m \u001b[49m\u001b[43mright\u001b[49m\u001b[43m,\u001b[49m\u001b[43m \u001b[49m\u001b[43mstrict_nan\u001b[49m\u001b[43m)\u001b[49m\n\u001b[0;32m    459\u001b[0m \u001b[38;5;66;03m# NaNs can occur in float and complex arrays.\u001b[39;00m\n\u001b[0;32m    460\u001b[0m \u001b[38;5;28;01mif\u001b[39;00m is_float_dtype(left\u001b[38;5;241m.\u001b[39mdtype) \u001b[38;5;129;01mor\u001b[39;00m is_complex_dtype(left\u001b[38;5;241m.\u001b[39mdtype):\n",
      "\u001b[1;31mKeyboardInterrupt\u001b[0m: "
     ]
    }
   ],
   "source": [
    "%%time\n",
    "df = pd.read_csv(\"hand_combinations.csv\", index_col=0).astype('int8')\n",
    "df.rename(index=lambda i: i.replace(\"'\", \"\"), inplace=True)\n",
    "print(f\"Memory usage: {round(sum(df.memory_usage(deep=True)) / 1024 / 1024, 1)}MB\\n\")\n",
    "all_hands = list(df.index.values)\n",
    "df"
   ]
  },
  {
   "cell_type": "code",
   "execution_count": null,
   "id": "d8fbc1e4",
   "metadata": {},
   "outputs": [],
   "source": [
    "%%time\n",
    "df['ranking'] = df.index\n",
    "df['ranking'] = df['ranking'].apply(lambda x: parse(str(x)[1:-1].split(\", \")))\n",
    "df"
   ]
  },
  {
   "cell_type": "code",
   "execution_count": null,
   "id": "0c5dbc1c",
   "metadata": {},
   "outputs": [],
   "source": [
    "# SHOWING RANDOM hand with its ranking\n",
    "\n",
    "# for _ in range(10):\n",
    "#     hand = choice(all_hands)\n",
    "#     print(hand, df.at[hand, 'ranking'])"
   ]
  },
  {
   "cell_type": "code",
   "execution_count": null,
   "id": "74e88c96",
   "metadata": {},
   "outputs": [],
   "source": [
    "# df['ranking'].value_counts()"
   ]
  },
  {
   "cell_type": "markdown",
   "id": "58014f99",
   "metadata": {},
   "source": [
    "# CLASSIFICATION"
   ]
  },
  {
   "cell_type": "markdown",
   "id": "54ca86ad",
   "metadata": {},
   "source": [
    "##### Create rank_dict for renaming columns for future purposes in classification"
   ]
  },
  {
   "cell_type": "code",
   "execution_count": null,
   "id": "3cd2a64b",
   "metadata": {},
   "outputs": [],
   "source": [
    "rankings = df['ranking'].value_counts().index.to_list()\n",
    "# rankings.reverse()\n",
    "# print(rankings)\n",
    "\n",
    "rank_dict = {}\n",
    "for i, el in enumerate(rankings):\n",
    "    rank_dict[el] = i\n",
    "rank_dict"
   ]
  },
  {
   "cell_type": "code",
   "execution_count": null,
   "id": "c6e749c5",
   "metadata": {},
   "outputs": [],
   "source": [
    "df['labels'] = df['ranking'].replace(rank_dict)\n",
    "df"
   ]
  },
  {
   "cell_type": "markdown",
   "id": "0cf7e9f2",
   "metadata": {},
   "source": [
    "# Splitting DATASET"
   ]
  },
  {
   "cell_type": "code",
   "execution_count": null,
   "id": "92b3479c",
   "metadata": {},
   "outputs": [],
   "source": [
    "from sklearn.model_selection import train_test_split"
   ]
  },
  {
   "cell_type": "code",
   "execution_count": null,
   "id": "8cb86a92",
   "metadata": {},
   "outputs": [],
   "source": [
    "X = df.drop(['ranking', 'labels'], axis=1).to_numpy()\n",
    "y = df['labels'].to_numpy()"
   ]
  },
  {
   "cell_type": "code",
   "execution_count": null,
   "id": "67af63f3",
   "metadata": {},
   "outputs": [],
   "source": [
    "X_train, X_test, y_train, y_test = train_test_split(X, y, test_size=0.3, random_state=1)"
   ]
  },
  {
   "cell_type": "markdown",
   "id": "88b57d0f",
   "metadata": {},
   "source": [
    "# Building RandomForestClassifier"
   ]
  },
  {
   "cell_type": "code",
   "execution_count": null,
   "id": "6d9999a4",
   "metadata": {},
   "outputs": [],
   "source": [
    "from sklearn.ensemble import RandomForestClassifier\n",
    "from sklearn.metrics import accuracy_score"
   ]
  },
  {
   "cell_type": "code",
   "execution_count": null,
   "id": "d4aa70b3",
   "metadata": {},
   "outputs": [],
   "source": [
    "%%time\n",
    "rfc_model = RandomForestClassifier(random_state=1, n_jobs=-1)\n",
    "rfc_model.fit(X_train, y_train)\n",
    "rfc_prediction = rfc_model.predict(X_test)\n",
    "rfc_score = accuracy_score(y_test, rfc_prediction)\n",
    "print(rfc_model)\n",
    "print(rfc_score)"
   ]
  },
  {
   "cell_type": "markdown",
   "id": "d078ae0a",
   "metadata": {},
   "source": [
    "# Building Artificial Neural Networt"
   ]
  },
  {
   "cell_type": "code",
   "execution_count": null,
   "id": "68c95dd6",
   "metadata": {},
   "outputs": [],
   "source": [
    "import tensorflow as tf\n",
    "from tensorflow.keras import Sequential, layers"
   ]
  },
  {
   "cell_type": "code",
   "execution_count": null,
   "id": "08854d26",
   "metadata": {},
   "outputs": [],
   "source": [
    "ANN = Sequential([\n",
    "    layers.Flatten(input_shape=(52,)),\n",
    "    \n",
    "    layers.Dense(64, activation='relu'),\n",
    "    \n",
    "#     layers.Dropout(0.1),\n",
    "    \n",
    "    layers.Dense(len(rankings), activation='softmax')\n",
    "])\n",
    "\n",
    "ANN.compile(\n",
    "    optimizer='adam',\n",
    "    loss = 'sparse_categorical_crossentropy',\n",
    "    metrics = ['accuracy']\n",
    ")\n",
    "\n",
    "ANN.fit(X_train, y_train, batch_size=256, epochs=5, validation_split=0.2)"
   ]
  },
  {
   "cell_type": "code",
   "execution_count": null,
   "id": "bf70f2a5",
   "metadata": {},
   "outputs": [],
   "source": [
    "_, ann_acc = ANN.evaluate(X_test, y_test, batch_size=256)"
   ]
  },
  {
   "cell_type": "code",
   "execution_count": null,
   "id": "e1770f54",
   "metadata": {},
   "outputs": [],
   "source": [
    "print(f\"RFC(acc): {round(rfc_score * 100, 3)}%\")\n",
    "print(f\"ANN(acc): {round(ann_acc * 100, 3)}%\")\n",
    "print(f\"Impovement ANN over RFC: {round(ann_acc / rfc_score * 100 - 100, 2)}%\")"
   ]
  },
  {
   "cell_type": "code",
   "execution_count": null,
   "id": "546abd5c",
   "metadata": {},
   "outputs": [],
   "source": [
    "# dataset = tf.data.Dataset.from_tensor_slices((X, y))\n",
    "# dataset = dataset.cache().batch(256).prefetch(tf.data.experimental.AUTOTUNE)\n",
    "# _ = list(dataset.as_numpy_iterator())\n",
    "\n",
    "# inputs = tf.keras.layers.Input((52,))\n",
    "# x = tf.keras.layers.Dense(64, activation='relu')(inputs)\n",
    "# x = tf.keras.layers.Dense(32, activation='relu')(x)\n",
    "# outputs = tf.keras.layers.Dense(1, activation='softmax')(x)\n",
    "\n",
    "# model = tf.keras.Model(inputs, outputs)\n",
    "# model.compile(optimizer='adam', loss='sparse_categorical_crossentropy', metrics=['accuracy'])\n",
    "# model.fit(dataset, epochs=5)"
   ]
  },
  {
   "cell_type": "markdown",
   "id": "03e7b42f",
   "metadata": {},
   "source": [
    "#  <font color=\"gold\">FINDING BEST MODEL ARCHITECTURE w/ KERAS TUNER</font>"
   ]
  },
  {
   "cell_type": "code",
   "execution_count": 50,
   "id": "25852334",
   "metadata": {},
   "outputs": [],
   "source": [
    "from kerastuner.tuners import RandomSearch\n",
    "import numpy as np"
   ]
  },
  {
   "cell_type": "code",
   "execution_count": 52,
   "id": "5bed911f",
   "metadata": {},
   "outputs": [
    {
     "name": "stdout",
     "output_type": "stream",
     "text": [
      "Trial 10 Complete [00h 02m 35s]\n",
      "val_loss: 0.0003154856385663152\n",
      "\n",
      "Best val_loss So Far: 0.00012219283962622285\n",
      "Total elapsed time: 00h 26m 22s\n",
      "INFO:tensorflow:Oracle triggered exit\n"
     ]
    }
   ],
   "source": [
    "def build_model(hp):\n",
    "    model = Sequential([\n",
    "        layers.Flatten(input_shape=(52,)),\n",
    "\n",
    "        layers.Dense(hp.Choice(\"Dense layer\", list(range(100, 301, 10))), activation='relu'),\n",
    "\n",
    "        #     layers.Dropout(0.1),\n",
    "\n",
    "        layers.Dense(len(rankings), activation='softmax')\n",
    "    ])\n",
    "    \n",
    "    model.compile(\n",
    "        optimizer='adam',\n",
    "        loss='sparse_categorical_crossentropy',\n",
    "        metrics=['accuracy']\n",
    "    )\n",
    "    \n",
    "    return model\n",
    "\n",
    "tuner = RandomSearch(\n",
    "    build_model,\n",
    "    objective='val_loss',\n",
    "    max_trials=10,\n",
    "    overwrite=True\n",
    "    )\n",
    "\n",
    "tuner.search(X_train, y_train, validation_data=(X_test, y_test), epochs=5, batch_size=256)"
   ]
  },
  {
   "cell_type": "code",
   "execution_count": 53,
   "id": "f50b0b3e",
   "metadata": {},
   "outputs": [
    {
     "name": "stdout",
     "output_type": "stream",
     "text": [
      "Model: \"sequential\"\n",
      "_________________________________________________________________\n",
      " Layer (type)                Output Shape              Param #   \n",
      "=================================================================\n",
      " flatten (Flatten)           (None, 52)                0         \n",
      "                                                                 \n",
      " dense (Dense)               (None, 300)               15900     \n",
      "                                                                 \n",
      " dense_1 (Dense)             (None, 10)                3010      \n",
      "                                                                 \n",
      "=================================================================\n",
      "Total params: 18,910\n",
      "Trainable params: 18,910\n",
      "Non-trainable params: 0\n",
      "_________________________________________________________________\n"
     ]
    }
   ],
   "source": [
    "best_ann_model = tuner.get_best_models(1)[0]\n",
    "best_hyp_par = tuner.get_best_hyperparameters(1)[0]\n",
    "best_ann_model.summary()"
   ]
  },
  {
   "cell_type": "code",
   "execution_count": 54,
   "id": "4f9d182a",
   "metadata": {},
   "outputs": [
    {
     "name": "stdout",
     "output_type": "stream",
     "text": [
      "3046/3046 [==============================] - 8s 3ms/step - loss: 1.2219e-04 - accuracy: 1.0000\n"
     ]
    },
    {
     "data": {
      "text/plain": [
       "[0.00012219283962622285, 0.999984622001648]"
      ]
     },
     "execution_count": 54,
     "metadata": {},
     "output_type": "execute_result"
    }
   ],
   "source": [
    "# best_ann_model.fit(X_train, y_train, epochs=5, batch_size=256, validation_split=0.1)\n",
    "best_ann_model.evaluate(X_test, y_test, batch_size=256)"
   ]
  },
  {
   "cell_type": "code",
   "execution_count": 68,
   "id": "d17b62d6",
   "metadata": {},
   "outputs": [],
   "source": [
    "list_of_models = tuner.get_best_models(10)\n",
    "top_dense_layer_shapes = []\n",
    "for model in list_of_models:\n",
    "    top_dense_layer_shapes.append(model.get_layer('dense').output_shape[1])\n",
    "#     print(model.get_layer('dense').output_shape[1])\n",
    "top_dense_layer_shapes"
   ]
  },
  {
   "cell_type": "code",
   "execution_count": 71,
   "id": "98fa7b06",
   "metadata": {},
   "outputs": [
    {
     "name": "stdout",
     "output_type": "stream",
     "text": [
      "3046/3046 [==============================] - 5s 2ms/step - loss: 1.2219e-04 - accuracy: 1.0000\n",
      "3046/3046 [==============================] - 5s 2ms/step - loss: 1.2658e-04 - accuracy: 1.0000\n",
      "3046/3046 [==============================] - 6s 2ms/step - loss: 1.5170e-04 - accuracy: 1.0000\n",
      "3046/3046 [==============================] - 6s 2ms/step - loss: 1.8029e-04 - accuracy: 1.0000\n",
      "3046/3046 [==============================] - 7s 2ms/step - loss: 3.1549e-04 - accuracy: 1.0000\n",
      "3046/3046 [==============================] - 7s 2ms/step - loss: 3.8512e-04 - accuracy: 1.0000\n",
      "3046/3046 [==============================] - 7s 2ms/step - loss: 4.3916e-04 - accuracy: 1.0000\n",
      "3046/3046 [==============================] - 7s 2ms/step - loss: 6.5251e-04 - accuracy: 1.0000\n",
      "3046/3046 [==============================] - 7s 2ms/step - loss: 7.8308e-04 - accuracy: 1.0000\n",
      "3046/3046 [==============================] - 7s 2ms/step - loss: 0.0073 - accuracy: 0.9984\n"
     ]
    }
   ],
   "source": [
    "dense_dict = {}\n",
    "for i, m in enumerate(list_of_models):\n",
    "    _, score = m.evaluate(X_test, y_test, batch_size=256)\n",
    "    num_of_dense = top_dense_layer_shapes[i]\n",
    "    dense_dict[str(num_of_dense)] = score"
   ]
  },
  {
   "cell_type": "code",
   "execution_count": 93,
   "id": "cb95c292",
   "metadata": {},
   "outputs": [
    {
     "name": "stdout",
     "output_type": "stream",
     "text": [
      "Hidden Neurons(num) -> 260: acc: 0.999990999699\n",
      "Hidden Neurons(num) -> 270: acc: 0.999987185001\n",
      "Hidden Neurons(num) -> 250: acc: 0.999985873699\n",
      "Hidden Neurons(num) -> 300: acc: 0.999984622002\n",
      "Hidden Neurons(num) -> 210: acc: 0.999982059002\n",
      "Hidden Neurons(num) -> 190: acc: 0.999982059002\n",
      "Hidden Neurons(num) -> 180: acc: 0.999973058701\n",
      "Hidden Neurons(num) -> 160: acc: 0.999970495701\n",
      "Hidden Neurons(num) -> 220: acc: 0.999957680702\n",
      "Hidden Neurons(num) -> 110: acc: 0.998446822166\n"
     ]
    }
   ],
   "source": [
    "dense_dict = {k: v for k, v in sorted(dense_dict.items(), key=lambda item: item[1], reverse=True)}\n",
    "for k, v in dense_dict.items():\n",
    "    print(f\"Hidden Neurons(num) -> {k}: acc: {round(v, 12)}\")"
   ]
  }
 ],
 "metadata": {
  "kernelspec": {
   "display_name": "Python 3 (ipykernel)",
   "language": "python",
   "name": "python3"
  },
  "language_info": {
   "codemirror_mode": {
    "name": "ipython",
    "version": 3
   },
   "file_extension": ".py",
   "mimetype": "text/x-python",
   "name": "python",
   "nbconvert_exporter": "python",
   "pygments_lexer": "ipython3",
   "version": "3.9.12"
  }
 },
 "nbformat": 4,
 "nbformat_minor": 5
}
